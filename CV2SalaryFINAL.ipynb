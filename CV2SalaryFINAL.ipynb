{
  "nbformat": 4,
  "nbformat_minor": 0,
  "metadata": {
    "colab": {
      "provenance": []
    },
    "kernelspec": {
      "name": "python3",
      "display_name": "Python 3"
    },
    "language_info": {
      "name": "python"
    }
  },
  "cells": [
    {
      "cell_type": "code",
      "execution_count": null,
      "metadata": {
        "id": "VUMJxGB0a_R4"
      },
      "outputs": [],
      "source": [
        "import pandas as pd\n",
        "import numpy as np\n",
        "from sklearn.model_selection import train_test_split\n",
        "from sklearn.preprocessing import StandardScaler\n",
        "from tensorflow.keras.preprocessing.text import Tokenizer\n",
        "from tensorflow.keras.preprocessing.sequence import pad_sequences\n",
        "from tensorflow.keras.models import Sequential\n",
        "from tensorflow.keras.layers import Embedding, GlobalAveragePooling1D, Dense\n",
        "import tensorflow as tf"
      ]
    },
    {
      "cell_type": "code",
      "source": [
        "df = pd.read_csv('drive/MyDrive/postings.csv')"
      ],
      "metadata": {
        "id": "KeTE0_pzbUgv"
      },
      "execution_count": null,
      "outputs": []
    },
    {
      "cell_type": "code",
      "source": [
        "def preprocess_text(text):\n",
        "    if pd.isna(text):\n",
        "        return \"\"\n",
        "    return str(text).lower()\n",
        "\n",
        "df['description'] = df['description'].apply(preprocess_text)\n",
        "df = df.dropna(subset=['max_salary', 'description'])\n",
        "df = df[df['max_salary'] > 0]"
      ],
      "metadata": {
        "id": "RBDtfwRCbXmv"
      },
      "execution_count": null,
      "outputs": []
    },
    {
      "cell_type": "code",
      "source": [
        "df['log_salary'] = np.log1p(df['max_salary'])"
      ],
      "metadata": {
        "id": "Sfb_KUi_b-48"
      },
      "execution_count": null,
      "outputs": []
    },
    {
      "cell_type": "code",
      "source": [
        "max_words = 10000\n",
        "max_len = 200\n",
        "tokenizer = Tokenizer(num_words=max_words, oov_token='<OOV>')\n",
        "tokenizer.fit_on_texts(df['description'])\n",
        "X = tokenizer.texts_to_sequences(df['description'])\n",
        "X = pad_sequences(X, maxlen=max_len)\n",
        "y = df['log_salary'].values"
      ],
      "metadata": {
        "id": "lFTYmzfFbivA"
      },
      "execution_count": null,
      "outputs": []
    },
    {
      "cell_type": "code",
      "source": [
        "X_train, X_test, y_train, y_test = train_test_split(X, y, test_size=0.2, random_state=69)"
      ],
      "metadata": {
        "id": "DGzMUNFMbt39"
      },
      "execution_count": null,
      "outputs": []
    },
    {
      "cell_type": "code",
      "source": [
        "scaler = StandardScaler()\n",
        "y_train_scaled = scaler.fit_transform(y_train.reshape(-1, 1)).flatten()\n",
        "y_test_scaled = scaler.transform(y_test.reshape(-1, 1)).flatten()"
      ],
      "metadata": {
        "id": "3ygkelUXbw-9"
      },
      "execution_count": null,
      "outputs": []
    },
    {
      "cell_type": "code",
      "source": [
        "model = Sequential([\n",
        "    Embedding(max_words, 50, input_length=max_len),\n",
        "    GlobalAveragePooling1D(),\n",
        "    Dense(16, activation='relu'),\n",
        "    Dense(1)\n",
        "])"
      ],
      "metadata": {
        "id": "nVm6xdt2byU6"
      },
      "execution_count": null,
      "outputs": []
    },
    {
      "cell_type": "code",
      "source": [
        "optimizer = tf.keras.optimizers.Adam(learning_rate=0.0001)\n",
        "model.compile(optimizer=optimizer, loss='mse', metrics=['mae'])"
      ],
      "metadata": {
        "id": "17caQGJZbzSZ"
      },
      "execution_count": null,
      "outputs": []
    },
    {
      "cell_type": "code",
      "source": [
        "history = model.fit(\n",
        "    X_train, y_train_scaled,\n",
        "    epochs=100,\n",
        "    batch_size=32,\n",
        "    validation_split=0.2,\n",
        "    verbose=1\n",
        ")"
      ],
      "metadata": {
        "colab": {
          "base_uri": "https://localhost:8080/"
        },
        "id": "imH50qWAb0jS",
        "outputId": "8454d44b-9191-4435-80de-0e772043c97a"
      },
      "execution_count": null,
      "outputs": [
        {
          "output_type": "stream",
          "name": "stdout",
          "text": [
            "Epoch 1/100\n",
            "596/596 [==============================] - 11s 16ms/step - loss: 0.9824 - mae: 0.9369 - val_loss: 0.9724 - val_mae: 0.9328\n",
            "Epoch 2/100\n",
            "596/596 [==============================] - 9s 15ms/step - loss: 0.8937 - mae: 0.8856 - val_loss: 0.8368 - val_mae: 0.8499\n",
            "Epoch 3/100\n",
            "596/596 [==============================] - 11s 19ms/step - loss: 0.7374 - mae: 0.7817 - val_loss: 0.6913 - val_mae: 0.7365\n",
            "Epoch 4/100\n",
            "596/596 [==============================] - 9s 14ms/step - loss: 0.6122 - mae: 0.6758 - val_loss: 0.6053 - val_mae: 0.6556\n",
            "Epoch 5/100\n",
            "596/596 [==============================] - 5s 9ms/step - loss: 0.5390 - mae: 0.6092 - val_loss: 0.5613 - val_mae: 0.6120\n",
            "Epoch 6/100\n",
            "596/596 [==============================] - 5s 9ms/step - loss: 0.4943 - mae: 0.5685 - val_loss: 0.5360 - val_mae: 0.5888\n",
            "Epoch 7/100\n",
            "596/596 [==============================] - 7s 11ms/step - loss: 0.4625 - mae: 0.5391 - val_loss: 0.5187 - val_mae: 0.5662\n",
            "Epoch 8/100\n",
            "596/596 [==============================] - 5s 9ms/step - loss: 0.4371 - mae: 0.5152 - val_loss: 0.5052 - val_mae: 0.5511\n",
            "Epoch 9/100\n",
            "596/596 [==============================] - 6s 11ms/step - loss: 0.4153 - mae: 0.4940 - val_loss: 0.4955 - val_mae: 0.5334\n",
            "Epoch 10/100\n",
            "596/596 [==============================] - 6s 9ms/step - loss: 0.3963 - mae: 0.4750 - val_loss: 0.4876 - val_mae: 0.5213\n",
            "Epoch 11/100\n",
            "596/596 [==============================] - 5s 9ms/step - loss: 0.3795 - mae: 0.4588 - val_loss: 0.4800 - val_mae: 0.5139\n",
            "Epoch 12/100\n",
            "596/596 [==============================] - 7s 11ms/step - loss: 0.3650 - mae: 0.4451 - val_loss: 0.4757 - val_mae: 0.5130\n",
            "Epoch 13/100\n",
            "596/596 [==============================] - 5s 9ms/step - loss: 0.3520 - mae: 0.4344 - val_loss: 0.4728 - val_mae: 0.4991\n",
            "Epoch 14/100\n",
            "596/596 [==============================] - 6s 10ms/step - loss: 0.3405 - mae: 0.4235 - val_loss: 0.4673 - val_mae: 0.4967\n",
            "Epoch 15/100\n",
            "596/596 [==============================] - 6s 10ms/step - loss: 0.3296 - mae: 0.4151 - val_loss: 0.4653 - val_mae: 0.4925\n",
            "Epoch 16/100\n",
            "596/596 [==============================] - 5s 9ms/step - loss: 0.3199 - mae: 0.4065 - val_loss: 0.4637 - val_mae: 0.4925\n",
            "Epoch 17/100\n",
            "596/596 [==============================] - 7s 12ms/step - loss: 0.3111 - mae: 0.3997 - val_loss: 0.4618 - val_mae: 0.4892\n",
            "Epoch 18/100\n",
            "596/596 [==============================] - 5s 9ms/step - loss: 0.3028 - mae: 0.3931 - val_loss: 0.4627 - val_mae: 0.4830\n",
            "Epoch 19/100\n",
            "596/596 [==============================] - 6s 10ms/step - loss: 0.2951 - mae: 0.3866 - val_loss: 0.4603 - val_mae: 0.4828\n",
            "Epoch 20/100\n",
            "596/596 [==============================] - 6s 10ms/step - loss: 0.2875 - mae: 0.3802 - val_loss: 0.4591 - val_mae: 0.4836\n",
            "Epoch 21/100\n",
            "596/596 [==============================] - 5s 9ms/step - loss: 0.2803 - mae: 0.3745 - val_loss: 0.4582 - val_mae: 0.4800\n",
            "Epoch 22/100\n",
            "596/596 [==============================] - 9s 16ms/step - loss: 0.2734 - mae: 0.3683 - val_loss: 0.4584 - val_mae: 0.4773\n",
            "Epoch 23/100\n",
            "596/596 [==============================] - 6s 10ms/step - loss: 0.2669 - mae: 0.3629 - val_loss: 0.4596 - val_mae: 0.4776\n",
            "Epoch 24/100\n",
            "596/596 [==============================] - 6s 10ms/step - loss: 0.2609 - mae: 0.3579 - val_loss: 0.4619 - val_mae: 0.4724\n",
            "Epoch 25/100\n",
            "596/596 [==============================] - 6s 10ms/step - loss: 0.2548 - mae: 0.3527 - val_loss: 0.4595 - val_mae: 0.4739\n",
            "Epoch 26/100\n",
            "596/596 [==============================] - 5s 9ms/step - loss: 0.2494 - mae: 0.3475 - val_loss: 0.4608 - val_mae: 0.4734\n",
            "Epoch 27/100\n",
            "596/596 [==============================] - 7s 12ms/step - loss: 0.2440 - mae: 0.3432 - val_loss: 0.4615 - val_mae: 0.4709\n",
            "Epoch 28/100\n",
            "596/596 [==============================] - 5s 9ms/step - loss: 0.2387 - mae: 0.3380 - val_loss: 0.4617 - val_mae: 0.4681\n",
            "Epoch 29/100\n",
            "596/596 [==============================] - 6s 10ms/step - loss: 0.2336 - mae: 0.3331 - val_loss: 0.4650 - val_mae: 0.4711\n",
            "Epoch 30/100\n",
            "596/596 [==============================] - 6s 11ms/step - loss: 0.2288 - mae: 0.3291 - val_loss: 0.4648 - val_mae: 0.4656\n",
            "Epoch 31/100\n",
            "596/596 [==============================] - 5s 9ms/step - loss: 0.2238 - mae: 0.3244 - val_loss: 0.4677 - val_mae: 0.4685\n",
            "Epoch 32/100\n",
            "596/596 [==============================] - 8s 13ms/step - loss: 0.2194 - mae: 0.3203 - val_loss: 0.4673 - val_mae: 0.4630\n",
            "Epoch 33/100\n",
            "596/596 [==============================] - 6s 10ms/step - loss: 0.2151 - mae: 0.3160 - val_loss: 0.4673 - val_mae: 0.4607\n",
            "Epoch 34/100\n",
            "596/596 [==============================] - 7s 11ms/step - loss: 0.2110 - mae: 0.3118 - val_loss: 0.4689 - val_mae: 0.4613\n",
            "Epoch 35/100\n",
            "596/596 [==============================] - 5s 9ms/step - loss: 0.2070 - mae: 0.3080 - val_loss: 0.4715 - val_mae: 0.4608\n",
            "Epoch 36/100\n",
            "596/596 [==============================] - 5s 9ms/step - loss: 0.2027 - mae: 0.3039 - val_loss: 0.4714 - val_mae: 0.4588\n",
            "Epoch 37/100\n",
            "596/596 [==============================] - 7s 12ms/step - loss: 0.1986 - mae: 0.3000 - val_loss: 0.4725 - val_mae: 0.4570\n",
            "Epoch 38/100\n",
            "596/596 [==============================] - 5s 9ms/step - loss: 0.1949 - mae: 0.2960 - val_loss: 0.4732 - val_mae: 0.4580\n",
            "Epoch 39/100\n",
            "596/596 [==============================] - 7s 11ms/step - loss: 0.1914 - mae: 0.2923 - val_loss: 0.4740 - val_mae: 0.4570\n",
            "Epoch 40/100\n",
            "596/596 [==============================] - 6s 10ms/step - loss: 0.1877 - mae: 0.2886 - val_loss: 0.4759 - val_mae: 0.4550\n",
            "Epoch 41/100\n",
            "596/596 [==============================] - 6s 10ms/step - loss: 0.1843 - mae: 0.2852 - val_loss: 0.4803 - val_mae: 0.4582\n",
            "Epoch 42/100\n",
            "596/596 [==============================] - 6s 11ms/step - loss: 0.1808 - mae: 0.2817 - val_loss: 0.4802 - val_mae: 0.4574\n",
            "Epoch 43/100\n",
            "596/596 [==============================] - 5s 9ms/step - loss: 0.1776 - mae: 0.2777 - val_loss: 0.4803 - val_mae: 0.4533\n",
            "Epoch 44/100\n",
            "596/596 [==============================] - 7s 11ms/step - loss: 0.1743 - mae: 0.2744 - val_loss: 0.4846 - val_mae: 0.4501\n",
            "Epoch 45/100\n",
            "596/596 [==============================] - 5s 9ms/step - loss: 0.1708 - mae: 0.2706 - val_loss: 0.4813 - val_mae: 0.4520\n",
            "Epoch 46/100\n",
            "596/596 [==============================] - 6s 10ms/step - loss: 0.1678 - mae: 0.2674 - val_loss: 0.4876 - val_mae: 0.4492\n",
            "Epoch 47/100\n",
            "596/596 [==============================] - 7s 11ms/step - loss: 0.1647 - mae: 0.2639 - val_loss: 0.4868 - val_mae: 0.4478\n",
            "Epoch 48/100\n",
            "596/596 [==============================] - 5s 9ms/step - loss: 0.1619 - mae: 0.2606 - val_loss: 0.4895 - val_mae: 0.4478\n",
            "Epoch 49/100\n",
            "596/596 [==============================] - 7s 12ms/step - loss: 0.1587 - mae: 0.2568 - val_loss: 0.4923 - val_mae: 0.4532\n",
            "Epoch 50/100\n",
            "596/596 [==============================] - 5s 9ms/step - loss: 0.1560 - mae: 0.2540 - val_loss: 0.4906 - val_mae: 0.4457\n",
            "Epoch 51/100\n",
            "596/596 [==============================] - 6s 10ms/step - loss: 0.1530 - mae: 0.2506 - val_loss: 0.4927 - val_mae: 0.4436\n",
            "Epoch 52/100\n",
            "596/596 [==============================] - 6s 11ms/step - loss: 0.1502 - mae: 0.2471 - val_loss: 0.4916 - val_mae: 0.4453\n",
            "Epoch 53/100\n",
            "596/596 [==============================] - 5s 9ms/step - loss: 0.1473 - mae: 0.2435 - val_loss: 0.4963 - val_mae: 0.4444\n",
            "Epoch 54/100\n",
            "596/596 [==============================] - 7s 12ms/step - loss: 0.1446 - mae: 0.2410 - val_loss: 0.4951 - val_mae: 0.4443\n",
            "Epoch 55/100\n",
            "596/596 [==============================] - 7s 12ms/step - loss: 0.1419 - mae: 0.2373 - val_loss: 0.4980 - val_mae: 0.4420\n",
            "Epoch 56/100\n",
            "596/596 [==============================] - 6s 10ms/step - loss: 0.1395 - mae: 0.2342 - val_loss: 0.5000 - val_mae: 0.4425\n",
            "Epoch 57/100\n",
            "596/596 [==============================] - 6s 10ms/step - loss: 0.1369 - mae: 0.2305 - val_loss: 0.5018 - val_mae: 0.4411\n",
            "Epoch 58/100\n",
            "596/596 [==============================] - 5s 9ms/step - loss: 0.1342 - mae: 0.2278 - val_loss: 0.5013 - val_mae: 0.4384\n",
            "Epoch 59/100\n",
            "596/596 [==============================] - 7s 12ms/step - loss: 0.1319 - mae: 0.2247 - val_loss: 0.4998 - val_mae: 0.4388\n",
            "Epoch 60/100\n",
            "596/596 [==============================] - 5s 9ms/step - loss: 0.1294 - mae: 0.2214 - val_loss: 0.5042 - val_mae: 0.4362\n",
            "Epoch 61/100\n",
            "596/596 [==============================] - 6s 10ms/step - loss: 0.1268 - mae: 0.2181 - val_loss: 0.5037 - val_mae: 0.4375\n",
            "Epoch 62/100\n",
            "596/596 [==============================] - 6s 10ms/step - loss: 0.1248 - mae: 0.2156 - val_loss: 0.5059 - val_mae: 0.4351\n",
            "Epoch 63/100\n",
            "596/596 [==============================] - 5s 9ms/step - loss: 0.1224 - mae: 0.2127 - val_loss: 0.5049 - val_mae: 0.4337\n",
            "Epoch 64/100\n",
            "596/596 [==============================] - 7s 12ms/step - loss: 0.1202 - mae: 0.2094 - val_loss: 0.5079 - val_mae: 0.4341\n",
            "Epoch 65/100\n",
            "596/596 [==============================] - 5s 9ms/step - loss: 0.1179 - mae: 0.2063 - val_loss: 0.5076 - val_mae: 0.4329\n",
            "Epoch 66/100\n",
            "596/596 [==============================] - 6s 10ms/step - loss: 0.1155 - mae: 0.2033 - val_loss: 0.5096 - val_mae: 0.4320\n",
            "Epoch 67/100\n",
            "596/596 [==============================] - 8s 14ms/step - loss: 0.1136 - mae: 0.2004 - val_loss: 0.5116 - val_mae: 0.4348\n",
            "Epoch 68/100\n",
            "596/596 [==============================] - 5s 9ms/step - loss: 0.1112 - mae: 0.1977 - val_loss: 0.5138 - val_mae: 0.4294\n",
            "Epoch 69/100\n",
            "596/596 [==============================] - 7s 11ms/step - loss: 0.1096 - mae: 0.1948 - val_loss: 0.5163 - val_mae: 0.4295\n",
            "Epoch 70/100\n",
            "596/596 [==============================] - 6s 10ms/step - loss: 0.1074 - mae: 0.1915 - val_loss: 0.5157 - val_mae: 0.4302\n",
            "Epoch 71/100\n",
            "596/596 [==============================] - 5s 9ms/step - loss: 0.1056 - mae: 0.1890 - val_loss: 0.5192 - val_mae: 0.4316\n",
            "Epoch 72/100\n",
            "596/596 [==============================] - 7s 12ms/step - loss: 0.1036 - mae: 0.1863 - val_loss: 0.5193 - val_mae: 0.4303\n",
            "Epoch 73/100\n",
            "596/596 [==============================] - 5s 9ms/step - loss: 0.1017 - mae: 0.1833 - val_loss: 0.5182 - val_mae: 0.4284\n",
            "Epoch 74/100\n",
            "596/596 [==============================] - 6s 10ms/step - loss: 0.0996 - mae: 0.1803 - val_loss: 0.5218 - val_mae: 0.4265\n",
            "Epoch 75/100\n",
            "596/596 [==============================] - 6s 10ms/step - loss: 0.0979 - mae: 0.1777 - val_loss: 0.5209 - val_mae: 0.4249\n",
            "Epoch 76/100\n",
            "596/596 [==============================] - 5s 9ms/step - loss: 0.0963 - mae: 0.1754 - val_loss: 0.5235 - val_mae: 0.4251\n",
            "Epoch 77/100\n",
            "596/596 [==============================] - 7s 12ms/step - loss: 0.0943 - mae: 0.1728 - val_loss: 0.5240 - val_mae: 0.4252\n",
            "Epoch 78/100\n",
            "596/596 [==============================] - 5s 9ms/step - loss: 0.0929 - mae: 0.1704 - val_loss: 0.5261 - val_mae: 0.4253\n",
            "Epoch 79/100\n",
            "596/596 [==============================] - 6s 10ms/step - loss: 0.0913 - mae: 0.1679 - val_loss: 0.5245 - val_mae: 0.4242\n",
            "Epoch 80/100\n",
            "596/596 [==============================] - 7s 11ms/step - loss: 0.0898 - mae: 0.1655 - val_loss: 0.5242 - val_mae: 0.4205\n",
            "Epoch 81/100\n",
            "596/596 [==============================] - 5s 9ms/step - loss: 0.0881 - mae: 0.1627 - val_loss: 0.5235 - val_mae: 0.4200\n",
            "Epoch 82/100\n",
            "596/596 [==============================] - 7s 11ms/step - loss: 0.0868 - mae: 0.1605 - val_loss: 0.5294 - val_mae: 0.4221\n",
            "Epoch 83/100\n",
            "596/596 [==============================] - 5s 9ms/step - loss: 0.0852 - mae: 0.1580 - val_loss: 0.5286 - val_mae: 0.4200\n",
            "Epoch 84/100\n",
            "596/596 [==============================] - 6s 10ms/step - loss: 0.0840 - mae: 0.1560 - val_loss: 0.5335 - val_mae: 0.4235\n",
            "Epoch 85/100\n",
            "596/596 [==============================] - 7s 11ms/step - loss: 0.0829 - mae: 0.1536 - val_loss: 0.5342 - val_mae: 0.4202\n",
            "Epoch 86/100\n",
            "596/596 [==============================] - 5s 9ms/step - loss: 0.0814 - mae: 0.1517 - val_loss: 0.5327 - val_mae: 0.4198\n",
            "Epoch 87/100\n",
            "596/596 [==============================] - 7s 12ms/step - loss: 0.0800 - mae: 0.1495 - val_loss: 0.5351 - val_mae: 0.4186\n",
            "Epoch 88/100\n",
            "596/596 [==============================] - 6s 11ms/step - loss: 0.0793 - mae: 0.1478 - val_loss: 0.5351 - val_mae: 0.4183\n",
            "Epoch 89/100\n",
            "596/596 [==============================] - 8s 13ms/step - loss: 0.0774 - mae: 0.1447 - val_loss: 0.5357 - val_mae: 0.4173\n",
            "Epoch 90/100\n",
            "596/596 [==============================] - 5s 9ms/step - loss: 0.0765 - mae: 0.1430 - val_loss: 0.5385 - val_mae: 0.4184\n",
            "Epoch 91/100\n",
            "596/596 [==============================] - 5s 9ms/step - loss: 0.0755 - mae: 0.1412 - val_loss: 0.5350 - val_mae: 0.4164\n",
            "Epoch 92/100\n",
            "596/596 [==============================] - 7s 11ms/step - loss: 0.0749 - mae: 0.1397 - val_loss: 0.5387 - val_mae: 0.4164\n",
            "Epoch 93/100\n",
            "596/596 [==============================] - 5s 9ms/step - loss: 0.0734 - mae: 0.1376 - val_loss: 0.5392 - val_mae: 0.4159\n",
            "Epoch 94/100\n",
            "596/596 [==============================] - 6s 11ms/step - loss: 0.0728 - mae: 0.1355 - val_loss: 0.5414 - val_mae: 0.4162\n",
            "Epoch 95/100\n",
            "596/596 [==============================] - 6s 10ms/step - loss: 0.0716 - mae: 0.1341 - val_loss: 0.5389 - val_mae: 0.4156\n",
            "Epoch 96/100\n",
            "596/596 [==============================] - 5s 9ms/step - loss: 0.0708 - mae: 0.1324 - val_loss: 0.5423 - val_mae: 0.4161\n",
            "Epoch 97/100\n",
            "596/596 [==============================] - 7s 11ms/step - loss: 0.0700 - mae: 0.1313 - val_loss: 0.5436 - val_mae: 0.4157\n",
            "Epoch 98/100\n",
            "596/596 [==============================] - 5s 9ms/step - loss: 0.0690 - mae: 0.1289 - val_loss: 0.5477 - val_mae: 0.4171\n",
            "Epoch 99/100\n",
            "596/596 [==============================] - 7s 11ms/step - loss: 0.0683 - mae: 0.1278 - val_loss: 0.5487 - val_mae: 0.4175\n",
            "Epoch 100/100\n",
            "596/596 [==============================] - 7s 12ms/step - loss: 0.0676 - mae: 0.1262 - val_loss: 0.5462 - val_mae: 0.4154\n"
          ]
        }
      ]
    },
    {
      "cell_type": "code",
      "source": [
        "loss, mae = model.evaluate(X_test, y_test_scaled, verbose=0)\n",
        "print(f\"\\nTest MAE: {mae}\")"
      ],
      "metadata": {
        "colab": {
          "base_uri": "https://localhost:8080/"
        },
        "id": "WRlaCcG8b2Ve",
        "outputId": "c4c5208e-87d5-42ba-fea4-239499807bff"
      },
      "execution_count": null,
      "outputs": [
        {
          "output_type": "stream",
          "name": "stdout",
          "text": [
            "\n",
            "Test MAE: 0.4297606348991394\n"
          ]
        }
      ]
    },
    {
      "cell_type": "code",
      "source": [
        "def predict_salary(job_description):\n",
        "    processed_text = preprocess_text(job_description)\n",
        "    sequence = tokenizer.texts_to_sequences([processed_text])\n",
        "    padded = pad_sequences(sequence, maxlen=max_len)\n",
        "    prediction = model.predict(padded)\n",
        "    log_salary = scaler.inverse_transform(prediction)[0][0]\n",
        "    return np.expm1(log_salary)"
      ],
      "metadata": {
        "id": "7Qrfrk8ob4pa"
      },
      "execution_count": null,
      "outputs": []
    },
    {
      "cell_type": "code",
      "source": [
        "example_job = \"Data Scientist with 5 years of experience in machine learning and big data technologies.\"\n",
        "predicted_salary = predict_salary(example_job)\n",
        "print(f\"\\nPredicted salary: ${predicted_salary:.2f}\")"
      ],
      "metadata": {
        "colab": {
          "base_uri": "https://localhost:8080/"
        },
        "id": "sN3qzBXtfgQ9",
        "outputId": "5e4eeda8-139b-43d0-d06d-44a0c0bb7fef"
      },
      "execution_count": null,
      "outputs": [
        {
          "output_type": "stream",
          "name": "stdout",
          "text": [
            "1/1 [==============================] - 0s 98ms/step\n",
            "\n",
            "Predicted salary: $6847.87\n"
          ]
        }
      ]
    },
    {
      "cell_type": "code",
      "source": [
        "example_job = \"School director based in Missisipi state, 10 years of experience\"\n",
        "predicted_salary = predict_salary(example_job)\n",
        "print(f\"\\nPredicted salary: ${predicted_salary:.2f}\")"
      ],
      "metadata": {
        "colab": {
          "base_uri": "https://localhost:8080/"
        },
        "id": "uzveASOvfie0",
        "outputId": "8a14eb8d-54c7-4878-b8d1-dcac604fc7e7"
      },
      "execution_count": null,
      "outputs": [
        {
          "output_type": "stream",
          "name": "stdout",
          "text": [
            "1/1 [==============================] - 0s 20ms/step\n",
            "\n",
            "Predicted salary: $2652.85\n"
          ]
        }
      ]
    },
    {
      "cell_type": "code",
      "source": [
        "!pip install joblib"
      ],
      "metadata": {
        "colab": {
          "base_uri": "https://localhost:8080/"
        },
        "id": "RH6bx1g1pJgK",
        "outputId": "7ad7f327-59cf-4736-a1cc-e28d682a9309"
      },
      "execution_count": null,
      "outputs": [
        {
          "output_type": "stream",
          "name": "stdout",
          "text": [
            "Requirement already satisfied: joblib in /usr/local/lib/python3.10/dist-packages (1.4.2)\n"
          ]
        }
      ]
    },
    {
      "cell_type": "code",
      "source": [
        "import joblib\n",
        "\n",
        "model.save('salary_prediction_model.keras')\n",
        "joblib.dump(tokenizer, 'tokenizer.joblib')\n",
        "joblib.dump(scaler, 'scaler.joblib')\n",
        "\n",
        "print(\"Model, tokenizer, and scaler have been saved.\")"
      ],
      "metadata": {
        "colab": {
          "base_uri": "https://localhost:8080/"
        },
        "id": "cpdRdgtMlIBf",
        "outputId": "09988495-fff7-4da1-e832-badf367e7848"
      },
      "execution_count": null,
      "outputs": [
        {
          "output_type": "stream",
          "name": "stdout",
          "text": [
            "Model, tokenizer, and scaler have been saved.\n"
          ]
        }
      ]
    },
    {
      "cell_type": "code",
      "source": [],
      "metadata": {
        "id": "8l64WvjapMeA"
      },
      "execution_count": null,
      "outputs": []
    }
  ]
}